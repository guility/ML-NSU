{
 "cells": [
  {
   "cell_type": "code",
   "execution_count": 1,
   "metadata": {
    "collapsed": true
   },
   "outputs": [],
   "source": [
    "# Importing necessary stuff\n",
    "import sklearn as sk\n",
    "from sklearn import metrics\n",
    "from sklearn.metrics import roc_auc_score\n",
    "import pandas as pd\n",
    "import numpy as np\n",
    "import matplotlib.pyplot as plt"
   ]
  },
  {
   "cell_type": "code",
   "execution_count": 41,
   "metadata": {},
   "outputs": [],
   "source": [
    "# Read data, pay attention separator is \\t, not comma\n",
    "data = pd.read_csv(\"lab2_data.csv\", sep='\\t')\n",
    "\n",
    "# Firstly, I've saved document after opening it in OpenOffice Calc and got some... bad stuff instead of correct data\n",
    "# So I've used line below to see if data was read correctly and there were no changes to original file.\n",
    "# Now it's commented not to make you scrolling to much.\n",
    "# data.loc[:,'churn':'churn_pred_prob']"
   ]
  },
  {
   "cell_type": "code",
   "execution_count": 36,
   "metadata": {},
   "outputs": [],
   "source": [
    "# Yes, indeed, so now - formatting it into np.arrays\n",
    "real = np.array(data.loc[:,'churn'])\n",
    "pred = data.loc[:, 'churn_pred_prob'].replace(r',', '.', regex=True)\n",
    "# Now the predicted probability values are considered as strings, so let's change it to float\n",
    "pred = np.array(pred.astype('float64'))"
   ]
  },
  {
   "cell_type": "code",
   "execution_count": 37,
   "metadata": {},
   "outputs": [
    {
     "data": {
      "image/png": "[encoded data removed]",
      "text/plain": [
       "<matplotlib.figure.Figure at 0x23891e5f630>"
      ]
     },
     "metadata": {},
     "output_type": "display_data"
    }
   ],
   "source": [
    "# Now we are using sklearn roc_curve algorithm, before everything else, to see how easy it is, using framework\n",
    "tpr, fpr, thresholds = metrics.roc_curve(real, pred, pos_label=0)\n",
    "\n",
    "\n",
    "# Then calculating by ourselves\n",
    "# Let's create thresholds\n",
    "TS = np.linspace(min(pred), max(pred), 80)\n",
    "\n",
    "# Below are the variables declarations. Used to it since imperative programming.\n",
    "# Lists for our True and False positive ratios\n",
    "TPR = []\n",
    "FPR = []\n",
    "\n",
    "# Also, some assistive variables to calculate accuracy, recall and precision afterwords:\n",
    "tpg = 0 # these are True/False Positive/Negative Global, so the sum for all tresholds\n",
    "fpg = 0\n",
    "fng = 0\n",
    "tng = 0\n",
    "\n",
    "# Calculating number of real positive and negative outcomes for ratios:\n",
    "P = sum(real)\n",
    "N = len(real) - P\n",
    "\n",
    "\n",
    "# Just calculting number of false positive and true positives for every threshold. Global values are holded.\n",
    "for (i, T) in enumerate(TS):\n",
    "    FP = 0\n",
    "    TP = 0\n",
    "    for i in range(0, len(pred)):\n",
    "        if pred[i] > T:\n",
    "            if real[i] == 1:\n",
    "                TP += 1\n",
    "                tpg += 1\n",
    "            if real[i] == 0:\n",
    "                FP += 1\n",
    "                fpg += 1\n",
    "        elif pred[i] < T:\n",
    "            if real[i] == 1:\n",
    "                fng += 1\n",
    "            if real[i] == 0:\n",
    "                tng += 1\n",
    "    FPR.append(FP/float(N))\n",
    "    TPR.append(TP/float(P))\n",
    "    \n",
    "\n",
    "# Plotting results\n",
    "plt.title('ROC Curves Competition')\n",
    "plt.ylabel('TPR')\n",
    "plt.xlabel('FPR')\n",
    "plt.xlim([0, 1])\n",
    "plt.ylim([0, 1])\n",
    "plt.plot(fpr, tpr, label='ROC-sklearn', c='blue')\n",
    "plt.plot(FPR, TPR, c = 'red', label='ROC-our', linewidth = 2, alpha = 0.5)\n",
    "plt.plot([0, 1], [0, 1], lw=2, ls='--', c='black', label='Random')\n",
    "plt.legend(loc=4)\n",
    "plt.show()\n",
    "\n",
    "# We see lines are just so close, that I couldn't see one if there was no alpha channel."
   ]
  },
  {
   "cell_type": "code",
   "execution_count": 38,
   "metadata": {},
   "outputs": [
    {
     "name": "stdout",
     "output_type": "stream",
     "text": [
      "AUC for Sklearn = 78.7281402032 %\n",
      "AUC for our own = 78.6244372648 %\n"
     ]
    }
   ],
   "source": [
    "# Integrating the curve for AUC value\n",
    "AUC_sk = np.trapz(tpr, fpr)\n",
    "print('AUC for Sklearn =', AUC_sk * 100,'%')\n",
    "AUC_own = np.trapz(TPR, FPR)\n",
    "print('AUC for our own =', -AUC_own * 100,'%')\n",
    "# For real - not a big differance, which is obsious from curves"
   ]
  },
  {
   "cell_type": "code",
   "execution_count": 31,
   "metadata": {},
   "outputs": [
    {
     "name": "stdout",
     "output_type": "stream",
     "text": [
      "Accuracy = 61.336895888998264\n",
      "Precision = 62.47339693938122\n",
      "Recall = 64.67572955230145\n"
     ]
    }
   ],
   "source": [
    "# And finally evaluate accuracy, precision and recall for model:\n",
    "accuracy = (tpg + tng) / (tpg + fpg + fng + tng)\n",
    "print('Accuracy =', accuracy * 100)\n",
    "precision = tpg / (tpg + fpg)\n",
    "print('Precision =', precision * 100)\n",
    "recall = tpg / (tpg + fng)\n",
    "print('Recall =', recall * 100)\n",
    "\n",
    "# Not a very good model, I would say. However, it depends on what was the task"
   ]
  },
  {
   "cell_type": "code",
   "execution_count": 40,
   "metadata": {
    "collapsed": true
   },
   "outputs": [],
   "source": [
    "# By some reasons roc_curve method worked not as documented.\n",
    "# Would very appreciate, if you explain me why tpr was returned before fpr"
   ]
  },
  {
   "cell_type": "code",
   "execution_count": null,
   "metadata": {
    "collapsed": true
   },
   "outputs": [],
   "source": []
  }
 ],
 "metadata": {
  "kernelspec": {
   "display_name": "Python 3",
   "language": "python",
   "name": "python3"
  },
  "language_info": {
   "codemirror_mode": {
    "name": "ipython",
    "version": 3
   },
   "file_extension": ".py",
   "mimetype": "text/x-python",
   "name": "python",
   "nbconvert_exporter": "python",
   "pygments_lexer": "ipython3",
   "version": "3.6.2"
  }
 },
 "nbformat": 4,
 "nbformat_minor": 2
}
